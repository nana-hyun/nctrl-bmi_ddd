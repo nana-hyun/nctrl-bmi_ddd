{
 "cells": [
  {
   "cell_type": "code",
   "execution_count": 64,
   "metadata": {},
   "outputs": [],
   "source": [
    "import numpy as np\n",
    "import time\n",
    "import random"
   ]
  },
  {
   "cell_type": "code",
   "execution_count": 4,
   "metadata": {},
   "outputs": [
    {
     "name": "stdout",
     "output_type": "stream",
     "text": [
      "roll_vec: 4847.457385063171 microseconds\n",
      "vstack_vec: 4511.596465110779 microseconds\n"
     ]
    }
   ],
   "source": [
    "B = 18000\n",
    "N = 100\n",
    "n_iter = 10000\n",
    "vec = np.zeros(shape=(B, N))\n",
    "\n",
    "def roll_vec(vec):\n",
    "    vec = np.roll(vec, -1, axis=0)\n",
    "    vec[-1] = 0\n",
    "    return vec\n",
    "\n",
    "def vstack_vec(vec):\n",
    "    return np.vstack((vec[1:], np.zeros((1, N))))\n",
    "\n",
    "start = time.time()\n",
    "for i in range(n_iter):\n",
    "    vec = roll_vec(vec)\n",
    "end = time.time()\n",
    "print(f\"roll_vec: {(end - start)/n_iter*1e6} microseconds\")\n",
    "\n",
    "start = time.time()\n",
    "for i in range(n_iter):\n",
    "    vec = vstack_vec(vec)\n",
    "end = time.time()\n",
    "print(f\"vstack_vec: {(end - start)/n_iter*1e6} microseconds\")\n",
    "\n",
    "# vec = np.roll(vec, -1, axis=0)\n",
    "# vec[-1] = 0"
   ]
  },
  {
   "cell_type": "code",
   "execution_count": 136,
   "metadata": {},
   "outputs": [
    {
     "name": "stdout",
     "output_type": "stream",
     "text": [
      "step: 432.2929382324219 nanoseconds\n"
     ]
    }
   ],
   "source": [
    "class CircularBuffer:\n",
    "    \"\"\"\n",
    "    A fast circular buffer implementation using numpy arrays.\n",
    "    Optimized version that minimizes array operations and copies.\n",
    "\n",
    "    Parameters\n",
    "    ----------\n",
    "    size : int or tuple\n",
    "        Size of the buffer. If tuple, creates a 2D array of shape size.\n",
    "        For 1D buffer, pass an integer size.\n",
    "\n",
    "    Attributes\n",
    "    ----------\n",
    "    buffer : ndarray\n",
    "        The underlying numpy array storing the data\n",
    "    length : int\n",
    "        Length of the first dimension of the buffer\n",
    "    size : int or tuple\n",
    "        Original size parameter used to create the buffer\n",
    "    index : int\n",
    "        Current position in the circular buffer\n",
    "\n",
    "    Methods\n",
    "    -------\n",
    "    __call__()\n",
    "        Returns the buffer contents in chronological order\n",
    "    __getitem__(index)\n",
    "        Access buffer elements relative to current position\n",
    "    __setitem__(index, value) \n",
    "        Set buffer elements relative to current position\n",
    "    roll(shift=-1)\n",
    "        Rotate buffer position by shift steps\n",
    "    step(shift=-1)\n",
    "        Rotate buffer and zero the new position\n",
    "    \"\"\"\n",
    "    def __init__(self, size):\n",
    "        self.buffer = np.zeros(size, dtype=np.int16)\n",
    "        self.length = size[0] if isinstance(size, tuple) else size\n",
    "        self.size = size\n",
    "        self.index = 0\n",
    "        \n",
    "    def __call__(self):\n",
    "        if self.index == self.length - 1:\n",
    "            return self.buffer\n",
    "        result = np.empty_like(self.buffer)\n",
    "        np.concatenate((self.buffer[self.index+1:], self.buffer[:self.index+1]), out=result)\n",
    "        return result\n",
    "    \n",
    "    def __getitem__(self, index):\n",
    "        if isinstance(index, tuple):\n",
    "            if isinstance(index[0], slice):\n",
    "                start = 0 if index[0].start is None else index[0].start\n",
    "                stop = self.length if index[0].stop is None else index[0].stop\n",
    "                step = 1 if index[0].step is None else index[0].step\n",
    "                idx = np.mod(np.arange(start, stop, step) + self.index + 1, self.length)\n",
    "                return self.buffer[idx, index[1]]\n",
    "            else:\n",
    "                idx = (self.index + index[0] + 1) % self.length\n",
    "                return self.buffer[idx, index[1]]\n",
    "            \n",
    "        return self.buffer[(self.index + index + 1) % self.length]\n",
    "\n",
    "    def __setitem__(self, index, value):\n",
    "        if isinstance(index, tuple):\n",
    "            self.buffer[(self.index + index[0] + 1) % self.length, index[1]] = value\n",
    "        else:\n",
    "            self.buffer[(self.index + index + 1) % self.length] = value\n",
    "    \n",
    "    def __len__(self):\n",
    "        return self.length\n",
    "    \n",
    "    def __repr__(self):\n",
    "        return f\"CircularBuffer(size={self.size})\"\n",
    "\n",
    "    def roll(self, shift=-1):\n",
    "        self.index = (self.index - shift) % self.length\n",
    "    \n",
    "    def step(self, shift=-1):\n",
    "        self.roll(shift)\n",
    "        self.buffer[self.index] = 0\n",
    "\n",
    "\n",
    "class FastBinner:\n",
    "    \"\"\"\n",
    "    A fast binning implementation for neural spike data using circular buffers.\n",
    "    \n",
    "    This class efficiently bins neural spikes into time windows, supporting both\n",
    "    single-unit and multi-unit configurations. It uses an optimized CircularBuffer\n",
    "    implementation for minimal memory operations.\n",
    "\n",
    "    Parameters\n",
    "    ----------\n",
    "    bin_size : float\n",
    "        Size of each time bin in seconds\n",
    "    n_id : int\n",
    "        Number of neural units to track\n",
    "    n_bin : int \n",
    "        Number of time bins to maintain in the buffer\n",
    "    i_id : int, optional\n",
    "        If specified, only track spikes from this unit ID\n",
    "    sampling_rate : int, optional\n",
    "        Recording sampling rate in Hz, defaults to 25000\n",
    "\n",
    "    Attributes\n",
    "    ----------\n",
    "    count_vec : CircularBuffer\n",
    "        Circular buffer storing spike counts, shape (n_bin, n_id) or (n_bin,)\n",
    "    time_to_bin : float\n",
    "        Conversion factor from timestamp to bin number\n",
    "    last_bin : int\n",
    "        Index of the last updated time bin\n",
    "    \"\"\"\n",
    "    def __init__(self, bin_size, n_id, n_bin, id=None, sampling_rate=25000):\n",
    "        self.bin_size = bin_size\n",
    "        self.N = n_id\n",
    "        self.B = n_bin\n",
    "        self.id = int(id) if id is not None else None\n",
    "        buffer_size = (self.B, self.N) if self.id is None else self.B\n",
    "        self.count_vec = CircularBuffer(size=buffer_size)\n",
    "        self.time_to_bin = 1.0 / (self.bin_size * sampling_rate)\n",
    "        self.last_bin = 0\n",
    "    \n",
    "    def input(self, bmi_output):\n",
    "        \"\"\"\n",
    "        Process an input spike and update the appropriate bin count.\n",
    "\n",
    "        Parameters\n",
    "        ----------\n",
    "        bmi_output : object\n",
    "            Object containing spike timestamp and unit ID information\n",
    "        \"\"\"\n",
    "        current_bin = int(bmi_output.timestamp * self.time_to_bin)\n",
    "        spk_id = int(bmi_output.spk_id)\n",
    "        \n",
    "        if current_bin != self.last_bin:\n",
    "            self.count_vec.step()\n",
    "            self.last_bin = current_bin\n",
    "            \n",
    "        if self.id is None:\n",
    "            self.count_vec[-1, spk_id] += 1\n",
    "        elif self.id == spk_id:\n",
    "            self.count_vec[-1] += 1\n",
    "    \n",
    "    def output(self):\n",
    "        \"\"\"\n",
    "        Get the current state of all bins.\n",
    "\n",
    "        Returns\n",
    "        -------\n",
    "        ndarray\n",
    "            Array of spike counts across all bins\n",
    "        \"\"\"\n",
    "        return self.count_vec()\n",
    "\n",
    "class BMIoutput:\n",
    "    def __init__(self, n_units=10, fs=25000):\n",
    "        self.n_units = n_units\n",
    "        self.timestamp = 0\n",
    "        self.fs = fs\n",
    "\n",
    "    def __call__(self):\n",
    "        cur_min = int(self.timestamp/self.fs/60) + 5 # from 5 Hz to 35 Hz\n",
    "        self.timestamp += int(random.gammavariate(1/cur_min, 1)*self.fs)\n",
    "        self.spk_id = 1\n",
    "        return self\n",
    "\n",
    "B = 180\n",
    "N = 10\n",
    "n_iter = 1000000\n",
    "buf = CircularBuffer(size=B)\n",
    "\n",
    "start = time.time()\n",
    "for i in range(n_iter):\n",
    "    buf.step()\n",
    "end = time.time()\n",
    "print(f\"step: {(end - start)/n_iter*1e9} nanoseconds\")"
   ]
  },
  {
   "cell_type": "code",
   "execution_count": 141,
   "metadata": {},
   "outputs": [
    {
     "name": "stdout",
     "output_type": "stream",
     "text": [
      "input: 6.129915681679813 microseconds\n"
     ]
    }
   ],
   "source": [
    "binner = FastBinner(bin_size=10, n_id=N+1, n_bin=B, id=1)\n",
    "bmi = BMIoutput(n_units=N)\n",
    "\n",
    "start = time.time()\n",
    "for i in range(n_iter):\n",
    "    bmi_output = bmi()\n",
    "    if bmi_output.timestamp > 25000*1800:\n",
    "        break\n",
    "    binner.input(bmi_output)\n",
    "end = time.time()\n",
    "print(f\"input: {(end - start)/i*1e6} microseconds\")\n"
   ]
  },
  {
   "cell_type": "code",
   "execution_count": 142,
   "metadata": {},
   "outputs": [
    {
     "data": {
      "text/plain": [
       "[<matplotlib.lines.Line2D at 0x11b0e521310>]"
      ]
     },
     "execution_count": 142,
     "metadata": {},
     "output_type": "execute_result"
    },
    {
     "data": {
      "image/png": "[encoded data removed]",
      "text/plain": [
       "<Figure size 640x480 with 1 Axes>"
      ]
     },
     "metadata": {},
     "output_type": "display_data"
    }
   ],
   "source": [
    "import matplotlib.pyplot as plt\n",
    "t = np.arange(0, 1800, 10) / 60\n",
    "plt.plot(t, binner.output() / 10)"
   ]
  },
  {
   "cell_type": "code",
   "execution_count": 107,
   "metadata": {},
   "outputs": [
    {
     "ename": "ValueError",
     "evalue": "setting an array element with a sequence.",
     "output_type": "error",
     "traceback": [
      "\u001b[1;31m---------------------------------------------------------------------------\u001b[0m",
      "\u001b[1;31mTypeError\u001b[0m                                 Traceback (most recent call last)",
      "\u001b[1;31mTypeError\u001b[0m: only length-1 arrays can be converted to Python scalars",
      "\nThe above exception was the direct cause of the following exception:\n",
      "\u001b[1;31mValueError\u001b[0m                                Traceback (most recent call last)",
      "Cell \u001b[1;32mIn[107], line 1\u001b[0m\n\u001b[1;32m----> 1\u001b[0m buf[\u001b[38;5;241m-\u001b[39m\u001b[38;5;241m1\u001b[39m] \u001b[38;5;241m=\u001b[39m np\u001b[38;5;241m.\u001b[39mrandom\u001b[38;5;241m.\u001b[39mrandint(\u001b[38;5;241m0\u001b[39m, \u001b[38;5;241m10\u001b[39m, size\u001b[38;5;241m=\u001b[39m(N,))\n\u001b[0;32m      2\u001b[0m buf\u001b[38;5;241m.\u001b[39mstep()\n\u001b[0;32m      3\u001b[0m buf[\u001b[38;5;241m-\u001b[39m\u001b[38;5;241m1\u001b[39m] \u001b[38;5;241m=\u001b[39m np\u001b[38;5;241m.\u001b[39mrandom\u001b[38;5;241m.\u001b[39mrandint(\u001b[38;5;241m0\u001b[39m, \u001b[38;5;241m100\u001b[39m, size\u001b[38;5;241m=\u001b[39m(N,))\n",
      "Cell \u001b[1;32mIn[106], line 67\u001b[0m, in \u001b[0;36mCircularBuffer.__setitem__\u001b[1;34m(self, index, value)\u001b[0m\n\u001b[0;32m     65\u001b[0m     \u001b[38;5;28mself\u001b[39m\u001b[38;5;241m.\u001b[39mbuffer[(\u001b[38;5;28mself\u001b[39m\u001b[38;5;241m.\u001b[39mindex \u001b[38;5;241m+\u001b[39m index[\u001b[38;5;241m0\u001b[39m] \u001b[38;5;241m+\u001b[39m \u001b[38;5;241m1\u001b[39m) \u001b[38;5;241m%\u001b[39m \u001b[38;5;28mself\u001b[39m\u001b[38;5;241m.\u001b[39mlength, index[\u001b[38;5;241m1\u001b[39m]] \u001b[38;5;241m=\u001b[39m value\n\u001b[0;32m     66\u001b[0m \u001b[38;5;28;01melse\u001b[39;00m:\n\u001b[1;32m---> 67\u001b[0m     \u001b[38;5;28mself\u001b[39m\u001b[38;5;241m.\u001b[39mbuffer[(\u001b[38;5;28mself\u001b[39m\u001b[38;5;241m.\u001b[39mindex \u001b[38;5;241m+\u001b[39m index \u001b[38;5;241m+\u001b[39m \u001b[38;5;241m1\u001b[39m) \u001b[38;5;241m%\u001b[39m \u001b[38;5;28mself\u001b[39m\u001b[38;5;241m.\u001b[39mlength] \u001b[38;5;241m=\u001b[39m value\n",
      "\u001b[1;31mValueError\u001b[0m: setting an array element with a sequence."
     ]
    }
   ],
   "source": [
    "buf[-1] = np.random.randint(0, 10, size=(N,))\n",
    "buf.step()\n",
    "buf[-1] = np.random.randint(0, 100, size=(N,))\n",
    "buf.step()\n",
    "buf[-1] = np.random.randint(0, 1000, size=(N,))"
   ]
  },
  {
   "cell_type": "code",
   "execution_count": null,
   "metadata": {},
   "outputs": [],
   "source": []
  }
 ],
 "metadata": {
  "kernelspec": {
   "display_name": "spiketag",
   "language": "python",
   "name": "python3"
  },
  "language_info": {
   "codemirror_mode": {
    "name": "ipython",
    "version": 3
   },
   "file_extension": ".py",
   "mimetype": "text/x-python",
   "name": "python",
   "nbconvert_exporter": "python",
   "pygments_lexer": "ipython3",
   "version": "3.8.19"
  }
 },
 "nbformat": 4,
 "nbformat_minor": 2
}
