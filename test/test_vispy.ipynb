{
 "cells": [
  {
   "cell_type": "code",
   "execution_count": 2,
   "metadata": {},
   "outputs": [],
   "source": [
    "%gui qt"
   ]
  },
  {
   "cell_type": "code",
   "execution_count": 4,
   "metadata": {},
   "outputs": [],
   "source": [
    "import os\n",
    "import sys\n",
    "import numpy as np\n",
    "import matplotlib.pyplot as plt\n",
    "\n",
    "sys.path.append(str(os.path.join(os.path.abspath('..'))))\n",
    "\n",
    "from nctrl.view import LineView\n",
    "from nctrl.view import FrGUI"
   ]
  },
  {
   "cell_type": "code",
   "execution_count": 6,
   "metadata": {},
   "outputs": [
    {
     "data": {
      "text/plain": [
       "[<matplotlib.lines.Line2D at 0x202011f4850>]"
      ]
     },
     "execution_count": 6,
     "metadata": {},
     "output_type": "execute_result"
    },
    {
     "data": {
      "image/png": "[encoded data removed]",
      "text/plain": [
       "<Figure size 640x480 with 1 Axes>"
      ]
     },
     "metadata": {},
     "output_type": "display_data"
    }
   ],
   "source": [
    "pos_x = np.arange(100000)\n",
    "pos_y = np.random.randn(100000) + 0.0001 * pos_x\n",
    "\n",
    "plt.plot(pos_x, pos_y)"
   ]
  },
  {
   "cell_type": "code",
   "execution_count": 10,
   "metadata": {},
   "outputs": [
    {
     "name": "stderr",
     "output_type": "stream",
     "text": [
      "WARNING: Traceback (most recent call last):\n",
      "  File \"c:\\Users\\lapis\\anaconda3\\envs\\spiketag\\lib\\runpy.py\", line 194, in _run_module_as_main\n",
      "    return _run_code(code, main_globals, None,\n",
      "  File \"c:\\Users\\lapis\\anaconda3\\envs\\spiketag\\lib\\runpy.py\", line 87, in _run_code\n",
      "    exec(code, run_globals)\n",
      "  File \"c:\\Users\\lapis\\anaconda3\\envs\\spiketag\\lib\\site-packages\\ipykernel_launcher.py\", line 18, in <module>\n",
      "    app.launch_new_instance()\n",
      "  File \"c:\\Users\\lapis\\anaconda3\\envs\\spiketag\\lib\\site-packages\\traitlets\\config\\application.py\", line 1075, in launch_instance\n",
      "    app.start()\n",
      "  File \"c:\\Users\\lapis\\anaconda3\\envs\\spiketag\\lib\\site-packages\\ipykernel\\kernelapp.py\", line 739, in start\n",
      "    self.io_loop.start()\n",
      "  File \"c:\\Users\\lapis\\anaconda3\\envs\\spiketag\\lib\\site-packages\\tornado\\platform\\asyncio.py\", line 205, in start\n",
      "    self.asyncio_loop.run_forever()\n",
      "  File \"c:\\Users\\lapis\\anaconda3\\envs\\spiketag\\lib\\asyncio\\base_events.py\", line 570, in run_forever\n",
      "    self._run_once()\n",
      "  File \"c:\\Users\\lapis\\anaconda3\\envs\\spiketag\\lib\\asyncio\\base_events.py\", line 1859, in _run_once\n",
      "    handle._run()\n",
      "  File \"c:\\Users\\lapis\\anaconda3\\envs\\spiketag\\lib\\asyncio\\events.py\", line 81, in _run\n",
      "    self._context.run(self._callback, *self._args)\n",
      "  File \"c:\\Users\\lapis\\anaconda3\\envs\\spiketag\\lib\\site-packages\\ipykernel\\kernelbase.py\", line 545, in dispatch_queue\n",
      "    await self.process_one()\n",
      "  File \"c:\\Users\\lapis\\anaconda3\\envs\\spiketag\\lib\\site-packages\\ipykernel\\kernelbase.py\", line 534, in process_one\n",
      "    await dispatch(*args)\n",
      "  File \"c:\\Users\\lapis\\anaconda3\\envs\\spiketag\\lib\\site-packages\\ipykernel\\kernelbase.py\", line 487, in advance_eventloop\n",
      "    eventloop(self)\n",
      "  File \"c:\\Users\\lapis\\anaconda3\\envs\\spiketag\\lib\\site-packages\\ipykernel\\eventloops.py\", line 145, in loop_qt\n",
      "    el.exec() if hasattr(el, \"exec\") else el.exec_()\n",
      "  File \"c:\\Users\\lapis\\anaconda3\\envs\\spiketag\\lib\\site-packages\\vispy\\app\\backends\\_qt.py\", line 657, in paintGL\n",
      "    self._vispy_canvas.events.draw(region=None)\n",
      "  File \"c:\\Users\\lapis\\anaconda3\\envs\\spiketag\\lib\\site-packages\\vispy\\util\\event.py\", line 455, in __call__\n",
      "    self._invoke_callback(cb, event)\n",
      "  File \"c:\\Users\\lapis\\anaconda3\\envs\\spiketag\\lib\\site-packages\\vispy\\util\\event.py\", line 473, in _invoke_callback\n",
      "    _handle_exception(self.ignore_callback_errors,\n",
      "  << caught exception here: >>\n",
      "  File \"c:\\Users\\lapis\\anaconda3\\envs\\spiketag\\lib\\site-packages\\vispy\\util\\event.py\", line 471, in _invoke_callback\n",
      "    cb(event)\n",
      "  File \"c:\\Users\\lapis\\anaconda3\\envs\\spiketag\\lib\\site-packages\\vispy\\scene\\canvas.py\", line 207, in on_draw\n",
      "    self._draw_scene()\n",
      "  File \"c:\\Users\\lapis\\anaconda3\\envs\\spiketag\\lib\\site-packages\\vispy\\scene\\canvas.py\", line 253, in _draw_scene\n",
      "    self.draw_visual(self.scene)\n",
      "  File \"c:\\Users\\lapis\\anaconda3\\envs\\spiketag\\lib\\site-packages\\vispy\\scene\\canvas.py\", line 291, in draw_visual\n",
      "    node.draw()\n",
      "  File \"c:\\Users\\lapis\\anaconda3\\envs\\spiketag\\lib\\site-packages\\vispy\\scene\\visuals.py\", line 98, in draw\n",
      "    self._visual_superclass.draw(self)\n",
      "  File \"c:\\Users\\lapis\\anaconda3\\envs\\spiketag\\lib\\site-packages\\vispy\\visuals\\visual.py\", line 588, in draw\n",
      "    v.draw()\n",
      "  File \"c:\\Users\\lapis\\anaconda3\\envs\\spiketag\\lib\\site-packages\\vispy\\visuals\\visual.py\", line 588, in draw\n",
      "    v.draw()\n",
      "  File \"c:\\Users\\lapis\\anaconda3\\envs\\spiketag\\lib\\site-packages\\vispy\\visuals\\visual.py\", line 432, in draw\n",
      "    if self._prepare_draw(view=self) is False:\n",
      "  File \"c:\\Users\\lapis\\anaconda3\\envs\\spiketag\\lib\\site-packages\\vispy\\visuals\\text\\text.py\", line 441, in _prepare_draw\n",
      "    self._vertices = np.concatenate([\n",
      "  File \"c:\\Users\\lapis\\anaconda3\\envs\\spiketag\\lib\\site-packages\\vispy\\visuals\\text\\text.py\", line 442, in <listcomp>\n",
      "    _text_to_vbo(t, self._font, self._anchors[0], self._anchors[1],\n",
      "  File \"c:\\Users\\lapis\\anaconda3\\envs\\spiketag\\lib\\site-packages\\vispy\\visuals\\text\\text.py\", line 157, in _text_to_vbo\n",
      "    glyph = font[char]\n",
      "  File \"c:\\Users\\lapis\\anaconda3\\envs\\spiketag\\lib\\site-packages\\vispy\\visuals\\text\\text.py\", line 69, in __getitem__\n",
      "    self._load_char(char)\n",
      "  File \"c:\\Users\\lapis\\anaconda3\\envs\\spiketag\\lib\\site-packages\\vispy\\visuals\\text\\text.py\", line 83, in _load_char\n",
      "    _load_glyph(self._font, char, self._glyphs)\n",
      "  File \"c:\\Users\\lapis\\anaconda3\\envs\\spiketag\\lib\\site-packages\\vispy\\util\\fonts\\_freetype.py\", line 50, in _load_glyph\n",
      "    face = _load_font(f['face'], f['bold'], f['italic'])\n",
      "  File \"c:\\Users\\lapis\\anaconda3\\envs\\spiketag\\lib\\site-packages\\vispy\\util\\fonts\\_freetype.py\", line 37, in _load_font\n",
      "    font = Face(fname)\n",
      "  File \"c:\\Users\\lapis\\anaconda3\\envs\\spiketag\\lib\\site-packages\\freetype\\__init__.py\", line 1192, in __init__\n",
      "    raise FT_Exception(error)\n",
      "freetype.ft_errors.FT_Exception: FT_Exception:  (cannot open resource)\n",
      "ERROR: Invoking <bound method SceneCanvas.on_draw of <LineView (PyQt5) at 0x2020bc7bb20>> for DrawEvent\n",
      "ERROR: Invoking <bound method SceneCanvas.on_draw of <LineView (PyQt5) at 0x2020bc7bb20>> repeat 2\n",
      "ERROR: Invoking <bound method SceneCanvas.on_draw of <LineView (PyQt5) at 0x2020bc7bb20>> repeat 4\n"
     ]
    }
   ],
   "source": [
    "from PyQt5.QtWidgets import QWidget, QVBoxLayout\n",
    "\n",
    "class TestGUI(QWidget):\n",
    "    def __init__(self):\n",
    "        super().__init__()\n",
    "        self.plot = LineView()\n",
    "        self.setLayout(QVBoxLayout())\n",
    "        self.layout().addWidget(self.plot.native)\n",
    "\n",
    "    def set_data(self, data):\n",
    "        self.plot.set_data([data])\n",
    "\n",
    "\n",
    "window = TestGUI()\n",
    "window.set_data(np.stack([pos_x, pos_y], axis=1))\n",
    "window.show()"
   ]
  },
  {
   "cell_type": "code",
   "execution_count": null,
   "metadata": {},
   "outputs": [],
   "source": []
  }
 ],
 "metadata": {
  "kernelspec": {
   "display_name": "spiketag",
   "language": "python",
   "name": "python3"
  },
  "language_info": {
   "codemirror_mode": {
    "name": "ipython",
    "version": 3
   },
   "file_extension": ".py",
   "mimetype": "text/x-python",
   "name": "python",
   "nbconvert_exporter": "python",
   "pygments_lexer": "ipython3",
   "version": "3.8.19"
  }
 },
 "nbformat": 4,
 "nbformat_minor": 2
}
