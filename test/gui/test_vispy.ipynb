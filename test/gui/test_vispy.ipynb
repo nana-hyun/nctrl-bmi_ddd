{
 "cells": [
  {
   "cell_type": "code",
   "execution_count": 1,
   "metadata": {},
   "outputs": [],
   "source": [
    "%gui qt"
   ]
  },
  {
   "cell_type": "code",
   "execution_count": 2,
   "metadata": {},
   "outputs": [],
   "source": [
    "import matplotlib as mpl\n",
    "import numpy as np\n",
    "from vispy import scene, app\n",
    "\n",
    "from PyQt5 import QtCore\n",
    "from PyQt5.QtCore import Qt, QThread, QEventLoop\n",
    "from PyQt5.QtWidgets import QMainWindow, QAction, QFileDialog, QWidget, QSplitter, QComboBox, QTextBrowser, QSlider, QPushButton, QTableWidget, QVBoxLayout, QHBoxLayout, QLineEdit, QLabel, QGridLayout\n",
    "from PyQt5.QtGui import QIcon\n",
    "from PyQt5.QtWidgets import QApplication\n",
    "\n",
    "\n",
    "class LineView(scene.SceneCanvas):\n",
    "    def __init__(self):\n",
    "        super().__init__(keys=None)\n",
    "        self.unfreeze()\n",
    "        \n",
    "        # Initialize grid and view\n",
    "        self.grid = self.central_widget.add_grid(margin=10)\n",
    "        self.view = self.grid.add_view(row=0, col=1)\n",
    "        self.view.camera = 'panzoom'\n",
    "        \n",
    "        # Initialize line collections\n",
    "        self.lines = []\n",
    "        self.line_colors = mpl.colormaps.get_cmap('Set3').colors\n",
    "        \n",
    "        self._setup_axes()\n",
    "        self.freeze()\n",
    "\n",
    "    def _setup_axes(self, axis_color=(1, 1, 1, 0.8)):\n",
    "        \"\"\"Setup x and y axes with common properties\"\"\"\n",
    "        # Create axes with shared properties \n",
    "        axis_props = {\n",
    "            'text_color': axis_color,\n",
    "            'axis_color': axis_color,\n",
    "            'tick_color': axis_color\n",
    "        }\n",
    "        \n",
    "        self.xaxis = scene.AxisWidget(orientation='bottom', **axis_props)\n",
    "        self.yaxis = scene.AxisWidget(orientation='left', **axis_props)\n",
    "        \n",
    "        # Configure axes\n",
    "        self.xaxis.stretch = (0.9, 0.1)\n",
    "        self.yaxis.stretch = (0.1, 0.9)\n",
    "        \n",
    "        # Add to grid and link views\n",
    "        self.grid.add_widget(self.xaxis, row=1, col=1)\n",
    "        self.grid.add_widget(self.yaxis, row=0, col=0)\n",
    "        self.xaxis.link_view(self.view)\n",
    "        self.yaxis.link_view(self.view)\n",
    "    \n",
    "    def set_data(self, positions):\n",
    "        \"\"\"Set line data and update view\n",
    "        \n",
    "        Parameters\n",
    "        ----------\n",
    "        positions : array-like\n",
    "            List of position arrays for each line\n",
    "        \"\"\"\n",
    "        self.clear()\n",
    "        n_colors = len(self.line_colors)\n",
    "        \n",
    "        for i, pos in enumerate(positions):\n",
    "            color = self.line_colors[i % n_colors]\n",
    "            line = scene.visuals.Line(pos=pos, color=color, width=2)\n",
    "            self.lines.append(line)\n",
    "            self.view.add(line)\n",
    "            \n",
    "        self.view.camera.set_range()\n",
    "    \n",
    "    def clear(self):\n",
    "        \"\"\"Remove all lines from view\"\"\"\n",
    "        for line in self.lines:\n",
    "            line.parent = None\n",
    "        self.lines.clear()\n",
    "\n",
    "class GUI(QWidget):\n",
    "    def __init__(self):\n",
    "        super().__init__()\n",
    "\n",
    "        self.plot = LineView()\n",
    "        self.timer = QtCore.QTimer()\n",
    "        self.timer.timeout.connect(self.update)\n",
    "\n",
    "        self.btn = QPushButton('Start')\n",
    "        self.btn.setCheckable(True)\n",
    "        self.btn.toggled.connect(self.start)\n",
    "\n",
    "        layout_main = QVBoxLayout()\n",
    "        layout_main.addWidget(self.btn)\n",
    "        layout_main.addWidget(self.plot.native)\n",
    "        self.setLayout(layout_main)\n",
    "        self.data = None\n",
    "        self.time = 0\n",
    "\n",
    "    def set_data(self, pos):\n",
    "        self.data = pos\n",
    "    \n",
    "    def update(self):\n",
    "        self.plot.set_data([self.data[self.time:self.time+1000]])\n",
    "        self.time += 1\n",
    "\n",
    "    def start(self, state):\n",
    "        if state:\n",
    "            self.timer.start(200)\n",
    "        else:\n",
    "            self.timer.stop()"
   ]
  },
  {
   "cell_type": "code",
   "execution_count": 3,
   "metadata": {},
   "outputs": [],
   "source": [
    "pos_x = np.arange(100000)\n",
    "pos_y = np.random.randn(100000)\n",
    "\n",
    "gui = GUI()\n",
    "gui.set_data(np.stack([pos_x, pos_y], axis=1))\n",
    "gui.show()"
   ]
  },
  {
   "cell_type": "code",
   "execution_count": 9,
   "metadata": {},
   "outputs": [
    {
     "data": {
      "text/plain": [
       "((0.5529411764705883, 0.8274509803921568, 0.7803921568627451),\n",
       " (1.0, 1.0, 0.7019607843137254),\n",
       " (0.7450980392156863, 0.7294117647058823, 0.8549019607843137),\n",
       " (0.984313725490196, 0.5019607843137255, 0.4470588235294118),\n",
       " (0.5019607843137255, 0.6941176470588235, 0.8274509803921568),\n",
       " (0.9921568627450981, 0.7058823529411765, 0.3843137254901961),\n",
       " (0.7019607843137254, 0.8705882352941177, 0.4117647058823529),\n",
       " (0.9882352941176471, 0.803921568627451, 0.8980392156862745),\n",
       " (0.8509803921568627, 0.8509803921568627, 0.8509803921568627),\n",
       " (0.7372549019607844, 0.5019607843137255, 0.7411764705882353),\n",
       " (0.8, 0.9215686274509803, 0.7725490196078432),\n",
       " (1.0, 0.9294117647058824, 0.43529411764705883))"
      ]
     },
     "execution_count": 9,
     "metadata": {},
     "output_type": "execute_result"
    }
   ],
   "source": [
    "import matplotlib as mpl\n",
    "x = mpl.colormaps.get_cmap('Set3').colors\n",
    "x"
   ]
  },
  {
   "cell_type": "code",
   "execution_count": 11,
   "metadata": {},
   "outputs": [
    {
     "ename": "IndexError",
     "evalue": "tuple index out of range",
     "output_type": "error",
     "traceback": [
      "\u001b[1;31m---------------------------------------------------------------------------\u001b[0m",
      "\u001b[1;31mIndexError\u001b[0m                                Traceback (most recent call last)",
      "Cell \u001b[1;32mIn[11], line 1\u001b[0m\n\u001b[1;32m----> 1\u001b[0m x[\u001b[38;5;241m200\u001b[39m]\n",
      "\u001b[1;31mIndexError\u001b[0m: tuple index out of range"
     ]
    }
   ],
   "source": []
  },
  {
   "cell_type": "code",
   "execution_count": null,
   "metadata": {},
   "outputs": [],
   "source": []
  }
 ],
 "metadata": {
  "kernelspec": {
   "display_name": "spiketag",
   "language": "python",
   "name": "python3"
  },
  "language_info": {
   "codemirror_mode": {
    "name": "ipython",
    "version": 3
   },
   "file_extension": ".py",
   "mimetype": "text/x-python",
   "name": "python",
   "nbconvert_exporter": "python",
   "pygments_lexer": "ipython3",
   "version": "3.8.19"
  }
 },
 "nbformat": 4,
 "nbformat_minor": 2
}
